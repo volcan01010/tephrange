{
 "cells": [
  {
   "cell_type": "markdown",
   "metadata": {},
   "source": [
    "This notebook was made to check that the results from my fall velocity code agreed with that from Frances Beckett and the Met Office.  Initially, my numbers were totally different.  This turned out to be because I was using the particle density in place of the air density in my Reynolds number calculation.  On fixing this, the numbers are much closer, although they still don't agree perfectly.  This may be due to slightly different co-efficients (because of typos).  However, my numbers do agree with Liz Watson's implementation of the code in Python."
   ]
  },
  {
   "cell_type": "code",
   "execution_count": 1,
   "metadata": {},
   "outputs": [
    {
     "data": {
      "text/plain": [
       "<module 'travdist.fall_velocity' from '/home/jsteven5/Modelling/Pankhurst_XMT/ash_settling_XMT/src/travdist/fall_velocity.py'>"
      ]
     },
     "execution_count": 1,
     "metadata": {},
     "output_type": "execute_result"
    }
   ],
   "source": [
    "import numpy as np\n",
    "import pandas as pd\n",
    "import matplotlib.pyplot as plt\n",
    "%matplotlib inline\n",
    "plt.style.use('ggplot')\n",
    "\n",
    "import os\n",
    "os.chdir('/home/jsteven5/Modelling/Pankhurst_XMT/ash_settling_XMT/src/')\n",
    "from travdist import atmos\n",
    "from travdist import fall_velocity\n",
    "import importlib\n",
    "importlib.reload(atmos)\n",
    "importlib.reload(fall_velocity)"
   ]
  },
  {
   "cell_type": "markdown",
   "metadata": {},
   "source": [
    "# Comparison of JAS Python code with FMB Fortran\n",
    "\n",
    "The aim of the notebook is to reproduce the results shown in Figure 5 of Beckett et al. (2015) _Sensitivity of dispersion model forecasts..._ using Python code.  The Python code is to be used in papers by Liz Watson and by Matt Pankhurst, which are looking at tephrochronology and 3D ash particle shapes.  Reproducing the results is a check on the Python code.\n",
    "\n",
    "Figure 5 graphs Fall Velocity ($m s^{-1}$) against particle diameter ($\\mu m$).  It assumes the following:\n",
    "\n",
    "+  Particle density: $2300~kg~m^{-3}$\n",
    "+  Amospheric density: $1.2~kg~m^{-3}$\n",
    "+  Atmospheric viscosity: $1.82 \\times 10^{-5}~Pa~s$\n",
    "+  Sphericity: $0.4, 0.7$ and $1.0$\n",
    "\n"
   ]
  },
  {
   "cell_type": "code",
   "execution_count": 2,
   "metadata": {},
   "outputs": [],
   "source": [
    "# Load Frances' data\n",
    "sph1 = pd.read_csv('/home/jsteven5/Modelling/Pankhurst_XMT/ash_settling_XMT/from_frances/Ganser_wCCF_sph1_Constant_Corr.dat',\n",
    "                   sep=' ',\n",
    "                   names=['diameter', 'white_FMB'])\n",
    "sph4 = pd.read_csv('/home/jsteven5/Modelling/Pankhurst_XMT/ash_settling_XMT/from_frances/Ganser_wCCF_sphp4_Constant_Corr.dat',\n",
    "                   sep=' ',\n",
    "                   names=['diameter', 'ganser_FMB_04'])\n",
    "\n",
    "df = pd.merge(sph1, sph4, on='diameter')\n",
    "df.set_index('diameter', inplace=True)\n",
    "\n",
    "# Calculate my data\n",
    "sizes = np.array(df.index * 1e-6)\n",
    "df['white_JAS'] = pd.Series([fall_velocity.white(d,\n",
    "                                                 density=2300,\n",
    "                                                 atm_density=1.2,\n",
    "                                                 atm_viscosity=1.82e-5\n",
    "                                                 ) for d in sizes], index=df.index)\n",
    "df['ganser_JAS_04'] = pd.Series([fall_velocity.ganser(d,\n",
    "                                                      density=2300,\n",
    "                                                      sphericity=0.4,\n",
    "                                                      atm_density=1.2,\n",
    "                                                      atm_viscosity=1.82e-5\n",
    "                                                      ) for d in sizes], index=df.index)\n",
    "df['ganser_JAS_07'] = pd.Series([fall_velocity.ganser(d,\n",
    "                                                      density=2300,\n",
    "                                                      sphericity=0.7,\n",
    "                                                      atm_density=1.2,\n",
    "                                                      atm_viscosity=1.82e-5\n",
    "                                                      ) for d in sizes], index=df.index)\n",
    "df['ganser_JAS_sphere'] = pd.Series([fall_velocity.ganser(d,\n",
    "                                                      density=2300,\n",
    "                                                      sphericity=1.0,\n",
    "                                                      atm_density=1.2,\n",
    "                                                      atm_viscosity=1.82e-5\n",
    "                                                      ) for d in sizes], index=df.index)\n",
    "df['stokes_JAS'] = pd.Series([fall_velocity.stokes(d,\n",
    "                                                   density=2300,\n",
    "                                                   atm_density=1.2,\n",
    "                                                   atm_viscosity=1.82e-5\n",
    "                                                   ) for d in sizes], index=df.index)"
   ]
  },
  {
   "cell_type": "code",
   "execution_count": 3,
   "metadata": {},
   "outputs": [
    {
     "data": {
      "image/png": "[encoded data removed]",
      "text/plain": [
       "<Figure size 432x288 with 1 Axes>"
      ]
     },
     "metadata": {},
     "output_type": "display_data"
    }
   ],
   "source": [
    "plt.close()\n",
    "df[['ganser_FMB_04', 'ganser_JAS_04']].plot()\n",
    "plt.savefig('Diameter_vs_fall_velocity_JAS.png')"
   ]
  },
  {
   "cell_type": "code",
   "execution_count": 4,
   "metadata": {},
   "outputs": [
    {
     "data": {
      "text/plain": [
       "<matplotlib.axes._subplots.AxesSubplot at 0x7f5c946883c8>"
      ]
     },
     "execution_count": 4,
     "metadata": {},
     "output_type": "execute_result"
    },
    {
     "data": {
      "image/png": "[encoded data removed]",
      "text/plain": [
       "<Figure size 432x288 with 1 Axes>"
      ]
     },
     "metadata": {},
     "output_type": "display_data"
    }
   ],
   "source": [
    "df[['white_FMB', 'white_JAS']].plot()"
   ]
  },
  {
   "cell_type": "markdown",
   "metadata": {},
   "source": [
    "#### Liz Watson's implementation of France's Fortran code"
   ]
  },
  {
   "cell_type": "code",
   "execution_count": 5,
   "metadata": {},
   "outputs": [],
   "source": [
    "# Define Ganser calculator function (Liz Watson's version)\n",
    "import math\n",
    "g = 9.80665\n",
    "def ganser_velocity(diameter, density, air_density,sp, air_viscosity) :\n",
    "    wt = (((diameter**2)/(18*air_viscosity))*g*(density-air_density))\n",
    "    for i in range (0,50):#calculate reynolds number using stokes as initial first guess, break loop when converged\n",
    "        re = (wt*diameter*air_density)/air_viscosity\n",
    "        #ganser drag coefficient                         \n",
    "        drag = (((24/(re*(3/(1+(2*(sp**-0.5))))))*(1+(0.1118*((re*((3/(1+(2*(sp**-0.5))))*(10**(1.8148*((-(math.log(sp,10)))**0.5743)))))**0.6567))))+((0.4305*(10**(1.8148*((-(math.log(sp,10)))**0.5743))))/(1+(3305/(re*(3/(1+(2*(sp**-0.5))))*(10**(1.8148*((-(math.log(sp,10)))**0.5743))))))))\n",
    "        wt1 = (((4*(diameter)*g*(density-air_density))/(3*drag*air_density))**0.5)\n",
    "        if abs (wt-wt1 < 0.000001):#keep going until convergence is reached max 50 iterations \n",
    "            break\n",
    "        wt=wt1\n",
    "    return wt\n",
    "\n",
    "#df['ganser_LW'] = pd.Series([ganser_velocity(d, 2300, 1.225, 0.4, 1.7915e-5) for d in sizes], index=df.index)\n",
    "df['ganser_LW_04'] = pd.Series([ganser_velocity(d, 2300, 1.2, 0.4, 1.82e-5) for d in sizes], index=df.index)"
   ]
  },
  {
   "cell_type": "code",
   "execution_count": 6,
   "metadata": {},
   "outputs": [
    {
     "data": {
      "text/plain": [
       "[]"
      ]
     },
     "execution_count": 6,
     "metadata": {},
     "output_type": "execute_result"
    },
    {
     "data": {
      "image/png": "[encoded data removed]",
      "text/plain": [
       "<Figure size 432x288 with 1 Axes>"
      ]
     },
     "metadata": {},
     "output_type": "display_data"
    }
   ],
   "source": [
    "fig = plt.figure()\n",
    "plt.plot(sizes*1e6, df.ganser_LW_04, label='ganser_LW')\n",
    "plt.plot(df.index[::50], df.ganser_JAS_04[::50], 'o', label='ganser_JAS')\n",
    "plt.plot(df.index, df.white_JAS, label='white_JAS')\n",
    "plt.legend(loc='upper left')\n",
    "plt.plot()"
   ]
  },
  {
   "cell_type": "code",
   "execution_count": 7,
   "metadata": {},
   "outputs": [
    {
     "data": {
      "text/html": [
       "<div>\n",
       "<style scoped>\n",
       "    .dataframe tbody tr th:only-of-type {\n",
       "        vertical-align: middle;\n",
       "    }\n",
       "\n",
       "    .dataframe tbody tr th {\n",
       "        vertical-align: top;\n",
       "    }\n",
       "\n",
       "    .dataframe thead th {\n",
       "        text-align: right;\n",
       "    }\n",
       "</style>\n",
       "<table border=\"1\" class=\"dataframe\">\n",
       "  <thead>\n",
       "    <tr style=\"text-align: right;\">\n",
       "      <th></th>\n",
       "      <th>white_FMB</th>\n",
       "      <th>ganser_FMB_04</th>\n",
       "      <th>white_JAS</th>\n",
       "      <th>ganser_JAS_04</th>\n",
       "      <th>ganser_JAS_07</th>\n",
       "      <th>ganser_JAS_sphere</th>\n",
       "      <th>stokes_JAS</th>\n",
       "      <th>ganser_LW_04</th>\n",
       "    </tr>\n",
       "    <tr>\n",
       "      <th>diameter</th>\n",
       "      <th></th>\n",
       "      <th></th>\n",
       "      <th></th>\n",
       "      <th></th>\n",
       "      <th></th>\n",
       "      <th></th>\n",
       "      <th></th>\n",
       "      <th></th>\n",
       "    </tr>\n",
       "  </thead>\n",
       "  <tbody>\n",
       "    <tr>\n",
       "      <th>0.10000</th>\n",
       "      <td>0.000002</td>\n",
       "      <td>0.000002</td>\n",
       "      <td>6.881419e-07</td>\n",
       "      <td>5.842151e-07</td>\n",
       "      <td>6.473055e-07</td>\n",
       "      <td>6.881417e-07</td>\n",
       "      <td>6.881419e-07</td>\n",
       "      <td>6.881419e-07</td>\n",
       "    </tr>\n",
       "    <tr>\n",
       "      <th>10.10000</th>\n",
       "      <td>0.007115</td>\n",
       "      <td>0.007021</td>\n",
       "      <td>7.012729e-03</td>\n",
       "      <td>5.006614e-03</td>\n",
       "      <td>6.167925e-03</td>\n",
       "      <td>6.997425e-03</td>\n",
       "      <td>7.019735e-03</td>\n",
       "      <td>5.007389e-03</td>\n",
       "    </tr>\n",
       "    <tr>\n",
       "      <th>20.10004</th>\n",
       "      <td>0.027695</td>\n",
       "      <td>0.026375</td>\n",
       "      <td>2.758048e-02</td>\n",
       "      <td>1.925312e-02</td>\n",
       "      <td>2.394449e-02</td>\n",
       "      <td>2.745403e-02</td>\n",
       "      <td>2.780173e-02</td>\n",
       "      <td>1.925376e-02</td>\n",
       "    </tr>\n",
       "    <tr>\n",
       "      <th>30.10008</th>\n",
       "      <td>0.061025</td>\n",
       "      <td>0.055285</td>\n",
       "      <td>6.090492e-02</td>\n",
       "      <td>4.130841e-02</td>\n",
       "      <td>5.206885e-02</td>\n",
       "      <td>6.065869e-02</td>\n",
       "      <td>6.234667e-02</td>\n",
       "      <td>4.130894e-02</td>\n",
       "    </tr>\n",
       "    <tr>\n",
       "      <th>40.09996</th>\n",
       "      <td>0.106044</td>\n",
       "      <td>0.090740</td>\n",
       "      <td>1.055309e-01</td>\n",
       "      <td>6.940468e-02</td>\n",
       "      <td>8.884489e-02</td>\n",
       "      <td>1.055506e-01</td>\n",
       "      <td>1.106537e-01</td>\n",
       "      <td>6.940534e-02</td>\n",
       "    </tr>\n",
       "    <tr>\n",
       "      <th>50.09981</th>\n",
       "      <td>0.161471</td>\n",
       "      <td>0.130289</td>\n",
       "      <td>1.596527e-01</td>\n",
       "      <td>1.018671e-01</td>\n",
       "      <td>1.324877e-01</td>\n",
       "      <td>1.608517e-01</td>\n",
       "      <td>1.727230e-01</td>\n",
       "      <td>1.018678e-01</td>\n",
       "    </tr>\n",
       "    <tr>\n",
       "      <th>60.09966</th>\n",
       "      <td>0.225936</td>\n",
       "      <td>0.172210</td>\n",
       "      <td>2.214475e-01</td>\n",
       "      <td>1.373216e-01</td>\n",
       "      <td>1.813569e-01</td>\n",
       "      <td>2.251923e-01</td>\n",
       "      <td>2.485547e-01</td>\n",
       "      <td>1.373223e-01</td>\n",
       "    </tr>\n",
       "    <tr>\n",
       "      <th>70.09950</th>\n",
       "      <td>0.298077</td>\n",
       "      <td>0.215368</td>\n",
       "      <td>2.892783e-01</td>\n",
       "      <td>1.747306e-01</td>\n",
       "      <td>2.340697e-01</td>\n",
       "      <td>2.972142e-01</td>\n",
       "      <td>3.381488e-01</td>\n",
       "      <td>1.747314e-01</td>\n",
       "    </tr>\n",
       "    <tr>\n",
       "      <th>80.09935</th>\n",
       "      <td>0.376620</td>\n",
       "      <td>0.259047</td>\n",
       "      <td>3.617697e-01</td>\n",
       "      <td>2.133465e-01</td>\n",
       "      <td>2.895221e-01</td>\n",
       "      <td>3.756421e-01</td>\n",
       "      <td>4.415053e-01</td>\n",
       "      <td>2.133475e-01</td>\n",
       "    </tr>\n",
       "    <tr>\n",
       "      <th>90.09920</th>\n",
       "      <td>0.460413</td>\n",
       "      <td>0.302796</td>\n",
       "      <td>4.378088e-01</td>\n",
       "      <td>2.526446e-01</td>\n",
       "      <td>3.468618e-01</td>\n",
       "      <td>4.593277e-01</td>\n",
       "      <td>5.586243e-01</td>\n",
       "      <td>2.526465e-01</td>\n",
       "    </tr>\n",
       "  </tbody>\n",
       "</table>\n",
       "</div>"
      ],
      "text/plain": [
       "          white_FMB  ganser_FMB_04     white_JAS  ganser_JAS_04  \\\n",
       "diameter                                                          \n",
       "0.10000    0.000002       0.000002  6.881419e-07   5.842151e-07   \n",
       "10.10000   0.007115       0.007021  7.012729e-03   5.006614e-03   \n",
       "20.10004   0.027695       0.026375  2.758048e-02   1.925312e-02   \n",
       "30.10008   0.061025       0.055285  6.090492e-02   4.130841e-02   \n",
       "40.09996   0.106044       0.090740  1.055309e-01   6.940468e-02   \n",
       "50.09981   0.161471       0.130289  1.596527e-01   1.018671e-01   \n",
       "60.09966   0.225936       0.172210  2.214475e-01   1.373216e-01   \n",
       "70.09950   0.298077       0.215368  2.892783e-01   1.747306e-01   \n",
       "80.09935   0.376620       0.259047  3.617697e-01   2.133465e-01   \n",
       "90.09920   0.460413       0.302796  4.378088e-01   2.526446e-01   \n",
       "\n",
       "          ganser_JAS_07  ganser_JAS_sphere    stokes_JAS  ganser_LW_04  \n",
       "diameter                                                                \n",
       "0.10000    6.473055e-07       6.881417e-07  6.881419e-07  6.881419e-07  \n",
       "10.10000   6.167925e-03       6.997425e-03  7.019735e-03  5.007389e-03  \n",
       "20.10004   2.394449e-02       2.745403e-02  2.780173e-02  1.925376e-02  \n",
       "30.10008   5.206885e-02       6.065869e-02  6.234667e-02  4.130894e-02  \n",
       "40.09996   8.884489e-02       1.055506e-01  1.106537e-01  6.940534e-02  \n",
       "50.09981   1.324877e-01       1.608517e-01  1.727230e-01  1.018678e-01  \n",
       "60.09966   1.813569e-01       2.251923e-01  2.485547e-01  1.373223e-01  \n",
       "70.09950   2.340697e-01       2.972142e-01  3.381488e-01  1.747314e-01  \n",
       "80.09935   2.895221e-01       3.756421e-01  4.415053e-01  2.133475e-01  \n",
       "90.09920   3.468618e-01       4.593277e-01  5.586243e-01  2.526465e-01  "
      ]
     },
     "execution_count": 7,
     "metadata": {},
     "output_type": "execute_result"
    }
   ],
   "source": [
    "df.to_csv('Diameter_versus_Fall_Velocity_model_comparison.csv', index=False)\n",
    "df[::100]"
   ]
  }
 ],
 "metadata": {
  "kernelspec": {
   "display_name": "Python 3",
   "language": "python",
   "name": "python3"
  },
  "language_info": {
   "codemirror_mode": {
    "name": "ipython",
    "version": 3
   },
   "file_extension": ".py",
   "mimetype": "text/x-python",
   "name": "python",
   "nbconvert_exporter": "python",
   "pygments_lexer": "ipython3",
   "version": "3.8.0"
  }
 },
 "nbformat": 4,
 "nbformat_minor": 1
}
