{
 "cells": [
  {
   "cell_type": "markdown",
   "metadata": {},
   "source": [
    "## Recreating Big Grains plots\n",
    "This notebook recreates the modelling plot from Stevenson et al (2015) _Big Grains Go Far_ to demonstrate the Python modelling code and to generate data to put results from real grains into context."
   ]
  },
  {
   "cell_type": "code",
   "execution_count": 2,
   "metadata": {},
   "outputs": [
    {
     "name": "stdout",
     "output_type": "stream",
     "text": [
      "['/home/jsteven5/GitHub/tephrange/examples', '/usr/lib/python38.zip', '/usr/lib/python3.8', '/usr/lib/python3.8/lib-dynload', '', '/home/jsteven5/.virtualenvs/tephrange/lib/python3.8/site-packages', '/home/jsteven5/GitHub/tephrange', '/home/jsteven5/.virtualenvs/tephrange/lib/python3.8/site-packages/IPython/extensions', '/home/jsteven5/.ipython']\n"
     ]
    }
   ],
   "source": [
    "import sys\n",
    "print(sys.path)\n",
    "import numpy as np\n",
    "import pandas as pd\n",
    "import matplotlib.pyplot as plt\n",
    "import ipdb\n",
    "from textwrap import dedent\n",
    "%matplotlib inline\n",
    "\n",
    "import os\n",
    "# Assume that notebook was launched from within project root\n",
    "examples_dir = './examples'\n",
    "\n",
    "\n",
    "from tephrange import density, fall_velocity, particle"
   ]
  },
  {
   "cell_type": "markdown",
   "metadata": {},
   "source": [
    "## Compare Ganser versus Stokes' terminal velocities"
   ]
  },
  {
   "cell_type": "code",
   "execution_count": 3,
   "metadata": {},
   "outputs": [
    {
     "data": {
      "text/html": [
       "<div>\n",
       "<style scoped>\n",
       "    .dataframe tbody tr th:only-of-type {\n",
       "        vertical-align: middle;\n",
       "    }\n",
       "\n",
       "    .dataframe tbody tr th {\n",
       "        vertical-align: top;\n",
       "    }\n",
       "\n",
       "    .dataframe thead th {\n",
       "        text-align: right;\n",
       "    }\n",
       "</style>\n",
       "<table border=\"1\" class=\"dataframe\">\n",
       "  <thead>\n",
       "    <tr style=\"text-align: right;\">\n",
       "      <th></th>\n",
       "      <th>DiameterMeters</th>\n",
       "      <th>DensityBP2003</th>\n",
       "      <th>VelocityStokes</th>\n",
       "      <th>VelocityGanserBP2003</th>\n",
       "      <th>StokesOverGanserBP2003</th>\n",
       "    </tr>\n",
       "    <tr>\n",
       "      <th>DiameterMicrons</th>\n",
       "      <th></th>\n",
       "      <th></th>\n",
       "      <th></th>\n",
       "      <th></th>\n",
       "      <th></th>\n",
       "    </tr>\n",
       "  </thead>\n",
       "  <tbody>\n",
       "    <tr>\n",
       "      <th>20</th>\n",
       "      <td>0.00002</td>\n",
       "      <td>1984.696564</td>\n",
       "      <td>0.027963</td>\n",
       "      <td>0.020818</td>\n",
       "      <td>1.343196</td>\n",
       "    </tr>\n",
       "    <tr>\n",
       "      <th>40</th>\n",
       "      <td>0.00004</td>\n",
       "      <td>1752.196564</td>\n",
       "      <td>0.111853</td>\n",
       "      <td>0.069252</td>\n",
       "      <td>1.615155</td>\n",
       "    </tr>\n",
       "    <tr>\n",
       "      <th>60</th>\n",
       "      <td>0.00006</td>\n",
       "      <td>1616.192783</td>\n",
       "      <td>0.251669</td>\n",
       "      <td>0.132875</td>\n",
       "      <td>1.894037</td>\n",
       "    </tr>\n",
       "    <tr>\n",
       "      <th>80</th>\n",
       "      <td>0.00008</td>\n",
       "      <td>1519.696564</td>\n",
       "      <td>0.447412</td>\n",
       "      <td>0.203706</td>\n",
       "      <td>2.196361</td>\n",
       "    </tr>\n",
       "    <tr>\n",
       "      <th>100</th>\n",
       "      <td>0.00010</td>\n",
       "      <td>1444.848282</td>\n",
       "      <td>0.699082</td>\n",
       "      <td>0.277043</td>\n",
       "      <td>2.523366</td>\n",
       "    </tr>\n",
       "    <tr>\n",
       "      <th>120</th>\n",
       "      <td>0.00012</td>\n",
       "      <td>1383.692783</td>\n",
       "      <td>1.006677</td>\n",
       "      <td>0.350323</td>\n",
       "      <td>2.873568</td>\n",
       "    </tr>\n",
       "    <tr>\n",
       "      <th>140</th>\n",
       "      <td>0.00014</td>\n",
       "      <td>1331.986545</td>\n",
       "      <td>1.370200</td>\n",
       "      <td>0.422222</td>\n",
       "      <td>3.245212</td>\n",
       "    </tr>\n",
       "    <tr>\n",
       "      <th>160</th>\n",
       "      <td>0.00016</td>\n",
       "      <td>1287.196564</td>\n",
       "      <td>1.789649</td>\n",
       "      <td>0.492095</td>\n",
       "      <td>3.636798</td>\n",
       "    </tr>\n",
       "    <tr>\n",
       "      <th>180</th>\n",
       "      <td>0.00018</td>\n",
       "      <td>1247.689001</td>\n",
       "      <td>2.265024</td>\n",
       "      <td>0.559662</td>\n",
       "      <td>4.047128</td>\n",
       "    </tr>\n",
       "  </tbody>\n",
       "</table>\n",
       "</div>"
      ],
      "text/plain": [
       "                 DiameterMeters  DensityBP2003  VelocityStokes  \\\n",
       "DiameterMicrons                                                  \n",
       "20                      0.00002    1984.696564        0.027963   \n",
       "40                      0.00004    1752.196564        0.111853   \n",
       "60                      0.00006    1616.192783        0.251669   \n",
       "80                      0.00008    1519.696564        0.447412   \n",
       "100                     0.00010    1444.848282        0.699082   \n",
       "120                     0.00012    1383.692783        1.006677   \n",
       "140                     0.00014    1331.986545        1.370200   \n",
       "160                     0.00016    1287.196564        1.789649   \n",
       "180                     0.00018    1247.689001        2.265024   \n",
       "\n",
       "                 VelocityGanserBP2003  StokesOverGanserBP2003  \n",
       "DiameterMicrons                                                \n",
       "20                           0.020818                1.343196  \n",
       "40                           0.069252                1.615155  \n",
       "60                           0.132875                1.894037  \n",
       "80                           0.203706                2.196361  \n",
       "100                          0.277043                2.523366  \n",
       "120                          0.350323                2.873568  \n",
       "140                          0.422222                3.245212  \n",
       "160                          0.492095                3.636798  \n",
       "180                          0.559662                4.047128  "
      ]
     },
     "execution_count": 3,
     "metadata": {},
     "output_type": "execute_result"
    },
    {
     "data": {
      "image/png": "[encoded data removed]",
      "text/plain": [
       "<Figure size 432x288 with 1 Axes>"
      ]
     },
     "metadata": {
      "needs_background": "light"
     },
     "output_type": "display_data"
    }
   ],
   "source": [
    "# Set up dataframe for results\n",
    "d_microns = np.arange(20, 181, 1)\n",
    "d = d_microns / 1e6\n",
    "df = pd.DataFrame({'DiameterMeters': d}, index=pd.Series(d_microns, name='DiameterMicrons'))\n",
    "\n",
    "# Add density column\n",
    "df['DensityBP2003'] = df['DiameterMeters'].map(lambda x: density.bp2003(x))\n",
    "\n",
    "# Calculate velocities\n",
    "df['VelocityStokes'] = df.index.map(lambda x: fall_velocity.stokes(\n",
    "    diameter=df.loc[x, 'DiameterMeters'], density=2300))\n",
    "df['VelocityGanserBP2003'] = df.index.map(lambda x: fall_velocity.ganser(\n",
    "    diameter=df.loc[x, 'DiameterMeters'], density=df.loc[x, 'DensityBP2003'],\n",
    "    sphericity=0.7))\n",
    "\n",
    "# Calculate ratio\n",
    "df['StokesOverGanserBP2003'] = df['VelocityStokes'] / df['VelocityGanserBP2003']\n",
    "\n",
    "# Show results\n",
    "ax = df.plot(y='StokesOverGanserBP2003')\n",
    "ax.set_ylabel('Ratio')\n",
    "df.loc[::20]  # Every 20th row"
   ]
  },
  {
   "cell_type": "markdown",
   "metadata": {},
   "source": [
    "## Recreate Big Grains plot\n",
    "\n",
    "#### Set up distance calculation functions"
   ]
  },
  {
   "cell_type": "code",
   "execution_count": 4,
   "metadata": {},
   "outputs": [],
   "source": [
    "def stokes_sealevel_distance(diameter, density):\n",
    "    \"\"\"\n",
    "    Calculate travel distance using Stokes' law at sea level.\n",
    "    \"\"\"\n",
    "    p = particle.Particle(diameter=diameter, particle_density=density)\n",
    "    distance = p.calculate_distance(velocity_function='stokes_sea_level')\n",
    "    return distance\n",
    "\n",
    "def ganser_distance(diameter, sphericity, density):\n",
    "    \"\"\"\n",
    "    Calculate travel distance using Ganser with shape factor 0.7\n",
    "    and variable atmosphere.\n",
    "    \"\"\"\n",
    "    p = particle.Particle(diameter=diameter, sphericity=sphericity,\n",
    "                          particle_density=density)\n",
    "    distance = p.calculate_distance(velocity_function='ganser')\n",
    "    return distance"
   ]
  },
  {
   "cell_type": "markdown",
   "metadata": {},
   "source": [
    "#### Set up dataframe for results"
   ]
  },
  {
   "cell_type": "code",
   "execution_count": 5,
   "metadata": {},
   "outputs": [],
   "source": [
    "d_microns = np.arange(20, 181, 1)\n",
    "d = d_microns / 1e6\n",
    "df = pd.DataFrame({'DiameterMeters': d}, index=pd.Series(d_microns, name='DiameterMicrons'))\n",
    "df['DensityBP2003'] = df['DiameterMeters'].map(lambda x: density.bp2003(x))"
   ]
  },
  {
   "cell_type": "markdown",
   "metadata": {},
   "source": [
    "#### Calculate travel distance using different functions"
   ]
  },
  {
   "cell_type": "code",
   "execution_count": 12,
   "metadata": {},
   "outputs": [
    {
     "ename": "ValueError",
     "evalue": "The truth value of a Series is ambiguous. Use a.empty, a.bool(), a.item(), a.any() or a.all().",
     "output_type": "error",
     "traceback": [
      "\u001b[0;31m---------------------------------------------------------------------------\u001b[0m",
      "\u001b[0;31mValueError\u001b[0m                                Traceback (most recent call last)",
      "\u001b[0;32m/tmp/ipykernel_3535/492566499.py\u001b[0m in \u001b[0;36m<module>\u001b[0;34m\u001b[0m\n\u001b[1;32m      3\u001b[0m         diameter=df.loc[x, 'DiameterMeters'], density=2300))\n\u001b[1;32m      4\u001b[0m \u001b[0;31m# Ganser uses density calculated using Bonadonna and Philips\u001b[0m\u001b[0;34m\u001b[0m\u001b[0;34m\u001b[0m\u001b[0;34m\u001b[0m\u001b[0m\n\u001b[0;32m----> 5\u001b[0;31m df['GanserBP2003'] = df.index.map(lambda x: ganser_distance(\n\u001b[0m\u001b[1;32m      6\u001b[0m         \u001b[0mdiameter\u001b[0m\u001b[0;34m=\u001b[0m\u001b[0mdf\u001b[0m\u001b[0;34m.\u001b[0m\u001b[0mloc\u001b[0m\u001b[0;34m[\u001b[0m\u001b[0mx\u001b[0m\u001b[0;34m,\u001b[0m \u001b[0;34m'DiameterMeters'\u001b[0m\u001b[0;34m]\u001b[0m\u001b[0;34m,\u001b[0m\u001b[0;34m\u001b[0m\u001b[0;34m\u001b[0m\u001b[0m\n\u001b[1;32m      7\u001b[0m         \u001b[0msphericity\u001b[0m\u001b[0;34m=\u001b[0m\u001b[0;36m0.7\u001b[0m\u001b[0;34m,\u001b[0m\u001b[0;34m\u001b[0m\u001b[0;34m\u001b[0m\u001b[0m\n",
      "\u001b[0;32m~/.virtualenvs/tephrange/lib/python3.8/site-packages/pandas/core/indexes/base.py\u001b[0m in \u001b[0;36mmap\u001b[0;34m(self, mapper, na_action)\u001b[0m\n\u001b[1;32m   5505\u001b[0m         \u001b[0;32mfrom\u001b[0m \u001b[0mpandas\u001b[0m\u001b[0;34m.\u001b[0m\u001b[0mcore\u001b[0m\u001b[0;34m.\u001b[0m\u001b[0mindexes\u001b[0m\u001b[0;34m.\u001b[0m\u001b[0mmulti\u001b[0m \u001b[0;32mimport\u001b[0m \u001b[0mMultiIndex\u001b[0m\u001b[0;34m\u001b[0m\u001b[0;34m\u001b[0m\u001b[0m\n\u001b[1;32m   5506\u001b[0m \u001b[0;34m\u001b[0m\u001b[0m\n\u001b[0;32m-> 5507\u001b[0;31m         \u001b[0mnew_values\u001b[0m \u001b[0;34m=\u001b[0m \u001b[0mself\u001b[0m\u001b[0;34m.\u001b[0m\u001b[0m_map_values\u001b[0m\u001b[0;34m(\u001b[0m\u001b[0mmapper\u001b[0m\u001b[0;34m,\u001b[0m \u001b[0mna_action\u001b[0m\u001b[0;34m=\u001b[0m\u001b[0mna_action\u001b[0m\u001b[0;34m)\u001b[0m\u001b[0;34m\u001b[0m\u001b[0;34m\u001b[0m\u001b[0m\n\u001b[0m\u001b[1;32m   5508\u001b[0m \u001b[0;34m\u001b[0m\u001b[0m\n\u001b[1;32m   5509\u001b[0m         \u001b[0mattributes\u001b[0m \u001b[0;34m=\u001b[0m \u001b[0mself\u001b[0m\u001b[0;34m.\u001b[0m\u001b[0m_get_attributes_dict\u001b[0m\u001b[0;34m(\u001b[0m\u001b[0;34m)\u001b[0m\u001b[0;34m\u001b[0m\u001b[0;34m\u001b[0m\u001b[0m\n",
      "\u001b[0;32m~/.virtualenvs/tephrange/lib/python3.8/site-packages/pandas/core/base.py\u001b[0m in \u001b[0;36m_map_values\u001b[0;34m(self, mapper, na_action)\u001b[0m\n\u001b[1;32m    868\u001b[0m \u001b[0;34m\u001b[0m\u001b[0m\n\u001b[1;32m    869\u001b[0m         \u001b[0;31m# mapper is a function\u001b[0m\u001b[0;34m\u001b[0m\u001b[0;34m\u001b[0m\u001b[0;34m\u001b[0m\u001b[0m\n\u001b[0;32m--> 870\u001b[0;31m         \u001b[0mnew_values\u001b[0m \u001b[0;34m=\u001b[0m \u001b[0mmap_f\u001b[0m\u001b[0;34m(\u001b[0m\u001b[0mvalues\u001b[0m\u001b[0;34m,\u001b[0m \u001b[0mmapper\u001b[0m\u001b[0;34m)\u001b[0m\u001b[0;34m\u001b[0m\u001b[0;34m\u001b[0m\u001b[0m\n\u001b[0m\u001b[1;32m    871\u001b[0m \u001b[0;34m\u001b[0m\u001b[0m\n\u001b[1;32m    872\u001b[0m         \u001b[0;32mreturn\u001b[0m \u001b[0mnew_values\u001b[0m\u001b[0;34m\u001b[0m\u001b[0;34m\u001b[0m\u001b[0m\n",
      "\u001b[0;32m~/.virtualenvs/tephrange/lib/python3.8/site-packages/pandas/_libs/lib.pyx\u001b[0m in \u001b[0;36mpandas._libs.lib.map_infer\u001b[0;34m()\u001b[0m\n",
      "\u001b[0;32m/tmp/ipykernel_3535/492566499.py\u001b[0m in \u001b[0;36m<lambda>\u001b[0;34m(x)\u001b[0m\n\u001b[1;32m      3\u001b[0m         diameter=df.loc[x, 'DiameterMeters'], density=2300))\n\u001b[1;32m      4\u001b[0m \u001b[0;31m# Ganser uses density calculated using Bonadonna and Philips\u001b[0m\u001b[0;34m\u001b[0m\u001b[0;34m\u001b[0m\u001b[0;34m\u001b[0m\u001b[0m\n\u001b[0;32m----> 5\u001b[0;31m df['GanserBP2003'] = df.index.map(lambda x: ganser_distance(\n\u001b[0m\u001b[1;32m      6\u001b[0m         \u001b[0mdiameter\u001b[0m\u001b[0;34m=\u001b[0m\u001b[0mdf\u001b[0m\u001b[0;34m.\u001b[0m\u001b[0mloc\u001b[0m\u001b[0;34m[\u001b[0m\u001b[0mx\u001b[0m\u001b[0;34m,\u001b[0m \u001b[0;34m'DiameterMeters'\u001b[0m\u001b[0;34m]\u001b[0m\u001b[0;34m,\u001b[0m\u001b[0;34m\u001b[0m\u001b[0;34m\u001b[0m\u001b[0m\n\u001b[1;32m      7\u001b[0m         \u001b[0msphericity\u001b[0m\u001b[0;34m=\u001b[0m\u001b[0;36m0.7\u001b[0m\u001b[0;34m,\u001b[0m\u001b[0;34m\u001b[0m\u001b[0;34m\u001b[0m\u001b[0m\n",
      "\u001b[0;32m/tmp/ipykernel_3535/94844879.py\u001b[0m in \u001b[0;36mganser_distance\u001b[0;34m(diameter, sphericity, density)\u001b[0m\n\u001b[1;32m     14\u001b[0m     p = particle.Particle(diameter=diameter, sphericity=sphericity,\n\u001b[1;32m     15\u001b[0m                           particle_density=density)\n\u001b[0;32m---> 16\u001b[0;31m     \u001b[0mdistance\u001b[0m \u001b[0;34m=\u001b[0m \u001b[0mp\u001b[0m\u001b[0;34m.\u001b[0m\u001b[0mcalculate_distance\u001b[0m\u001b[0;34m(\u001b[0m\u001b[0mvelocity_function\u001b[0m\u001b[0;34m=\u001b[0m\u001b[0;34m'ganser'\u001b[0m\u001b[0;34m)\u001b[0m\u001b[0;34m\u001b[0m\u001b[0;34m\u001b[0m\u001b[0m\n\u001b[0m\u001b[1;32m     17\u001b[0m     \u001b[0;32mreturn\u001b[0m \u001b[0mdistance\u001b[0m\u001b[0;34m\u001b[0m\u001b[0;34m\u001b[0m\u001b[0m\n",
      "\u001b[0;32m~/GitHub/tephrange/tephrange/particle.py\u001b[0m in \u001b[0;36mcalculate_distance\u001b[0;34m(self, release_height, windspeed, fall_step, velocity_function)\u001b[0m\n\u001b[1;32m     67\u001b[0m \u001b[0;34m\u001b[0m\u001b[0m\n\u001b[1;32m     68\u001b[0m             \u001b[0;31m# Calculate movement in this step\u001b[0m\u001b[0;34m\u001b[0m\u001b[0;34m\u001b[0m\u001b[0;34m\u001b[0m\u001b[0m\n\u001b[0;32m---> 69\u001b[0;31m             fall_time, horizontal_distance = self._calc_step_movement(\n\u001b[0m\u001b[1;32m     70\u001b[0m                 velocity_function, fall_step, windspeed)\n\u001b[1;32m     71\u001b[0m \u001b[0;34m\u001b[0m\u001b[0m\n",
      "\u001b[0;32m~/GitHub/tephrange/tephrange/particle.py\u001b[0m in \u001b[0;36m_calc_step_movement\u001b[0;34m(self, velocity_function, fall_step, windspeed)\u001b[0m\n\u001b[1;32m     95\u001b[0m \u001b[0;34m\u001b[0m\u001b[0m\n\u001b[1;32m     96\u001b[0m         \u001b[0;31m# Calculate terminal velocity\u001b[0m\u001b[0;34m\u001b[0m\u001b[0;34m\u001b[0m\u001b[0;34m\u001b[0m\u001b[0m\n\u001b[0;32m---> 97\u001b[0;31m         v_terminal = self.get_fall_velocity(atm_density, atm_viscosity,\n\u001b[0m\u001b[1;32m     98\u001b[0m                                             velocity_function)\n\u001b[1;32m     99\u001b[0m \u001b[0;34m\u001b[0m\u001b[0m\n",
      "\u001b[0;32m~/GitHub/tephrange/tephrange/particle.py\u001b[0m in \u001b[0;36mget_fall_velocity\u001b[0;34m(self, atm_density, atm_viscosity, velocity_function)\u001b[0m\n\u001b[1;32m    130\u001b[0m         \u001b[0;31m# Get fall velocity\u001b[0m\u001b[0;34m\u001b[0m\u001b[0;34m\u001b[0m\u001b[0;34m\u001b[0m\u001b[0m\n\u001b[1;32m    131\u001b[0m         \u001b[0;32mif\u001b[0m \u001b[0mvelocity_function\u001b[0m \u001b[0;34m==\u001b[0m \u001b[0;34m'ganser'\u001b[0m\u001b[0;34m:\u001b[0m\u001b[0;34m\u001b[0m\u001b[0;34m\u001b[0m\u001b[0m\n\u001b[0;32m--> 132\u001b[0;31m             v_terminal = fall_velocity.ganser(diameter=self.diameter,\n\u001b[0m\u001b[1;32m    133\u001b[0m                                               \u001b[0msphericity\u001b[0m\u001b[0;34m=\u001b[0m\u001b[0mself\u001b[0m\u001b[0;34m.\u001b[0m\u001b[0msphericity\u001b[0m\u001b[0;34m,\u001b[0m\u001b[0;34m\u001b[0m\u001b[0;34m\u001b[0m\u001b[0m\n\u001b[1;32m    134\u001b[0m                                               \u001b[0mdensity\u001b[0m\u001b[0;34m=\u001b[0m\u001b[0mself\u001b[0m\u001b[0;34m.\u001b[0m\u001b[0mdensity\u001b[0m\u001b[0;34m,\u001b[0m\u001b[0;34m\u001b[0m\u001b[0;34m\u001b[0m\u001b[0m\n",
      "\u001b[0;32m~/GitHub/tephrange/tephrange/fall_velocity.py\u001b[0m in \u001b[0;36mganser\u001b[0;34m(diameter, sphericity, density, atm_density, atm_viscosity)\u001b[0m\n\u001b[1;32m     39\u001b[0m                       atm_density, atm_viscosity)  # First guess is Stokes'\n\u001b[1;32m     40\u001b[0m     \u001b[0mvelocity_difference\u001b[0m \u001b[0;34m=\u001b[0m \u001b[0;36m99999\u001b[0m\u001b[0;34m\u001b[0m\u001b[0;34m\u001b[0m\u001b[0m\n\u001b[0;32m---> 41\u001b[0;31m     \u001b[0;32mwhile\u001b[0m \u001b[0mabs\u001b[0m\u001b[0;34m(\u001b[0m\u001b[0mvelocity_difference\u001b[0m\u001b[0;34m)\u001b[0m \u001b[0;34m>\u001b[0m \u001b[0;36m0.000001\u001b[0m\u001b[0;34m:\u001b[0m  \u001b[0;31m# Usually < 15 iterations\u001b[0m\u001b[0;34m\u001b[0m\u001b[0;34m\u001b[0m\u001b[0m\n\u001b[0m\u001b[1;32m     42\u001b[0m         reynolds = _get_reynolds(diameter, velocity,\n\u001b[1;32m     43\u001b[0m                                  atm_density, atm_viscosity)\n",
      "\u001b[0;32m~/.virtualenvs/tephrange/lib/python3.8/site-packages/pandas/core/generic.py\u001b[0m in \u001b[0;36m__nonzero__\u001b[0;34m(self)\u001b[0m\n\u001b[1;32m   1532\u001b[0m     \u001b[0;34m@\u001b[0m\u001b[0mfinal\u001b[0m\u001b[0;34m\u001b[0m\u001b[0;34m\u001b[0m\u001b[0m\n\u001b[1;32m   1533\u001b[0m     \u001b[0;32mdef\u001b[0m \u001b[0m__nonzero__\u001b[0m\u001b[0;34m(\u001b[0m\u001b[0mself\u001b[0m\u001b[0;34m)\u001b[0m\u001b[0;34m:\u001b[0m\u001b[0;34m\u001b[0m\u001b[0;34m\u001b[0m\u001b[0m\n\u001b[0;32m-> 1534\u001b[0;31m         raise ValueError(\n\u001b[0m\u001b[1;32m   1535\u001b[0m             \u001b[0;34mf\"The truth value of a {type(self).__name__} is ambiguous. \"\u001b[0m\u001b[0;34m\u001b[0m\u001b[0;34m\u001b[0m\u001b[0m\n\u001b[1;32m   1536\u001b[0m             \u001b[0;34m\"Use a.empty, a.bool(), a.item(), a.any() or a.all().\"\u001b[0m\u001b[0;34m\u001b[0m\u001b[0;34m\u001b[0m\u001b[0m\n",
      "\u001b[0;31mValueError\u001b[0m: The truth value of a Series is ambiguous. Use a.empty, a.bool(), a.item(), a.any() or a.all()."
     ]
    }
   ],
   "source": [
    "# Stokes' sea level is calculated with constant density\n",
    "df['StokesSeaLevel'] = df.index.map(lambda x: stokes_sealevel_distance(\n",
    "        diameter=df.loc[x, 'DiameterMeters'], density=2300))\n",
    "# Ganser uses density calculated using Bonadonna and Philips\n",
    "df['GanserBP2003'] = df.index.map(lambda x: ganser_distance(\n",
    "        diameter=df.loc[x, 'DiameterMeters'],\n",
    "        sphericity=0.7,\n",
    "        density=df.loc[x, 'DensityBP2003']))\n"
   ]
  },
  {
   "cell_type": "code",
   "execution_count": 11,
   "metadata": {},
   "outputs": [],
   "source": [
    "# Add Ash Hollow distance information from Riley et al 2003\n",
    "ash_hollow = pd.read_csv('../examples/Riley2003_Hollow_sphdiam_10km_ws10.csv',\n",
    "                         sep=' ', names=['DiameterMicrons', 'AshHollow'],\n",
    "                         index_col='DiameterMicrons')\n",
    "df = df.join(ash_hollow)"
   ]
  },
  {
   "cell_type": "markdown",
   "metadata": {},
   "source": [
    "#### Display table to compare distances"
   ]
  },
  {
   "cell_type": "code",
   "execution_count": null,
   "metadata": {},
   "outputs": [],
   "source": [
    "df.loc[np.isfinite(df['AshHollow']), :]"
   ]
  },
  {
   "cell_type": "markdown",
   "metadata": {},
   "source": [
    "#### Export data to csv"
   ]
  },
  {
   "cell_type": "code",
   "execution_count": null,
   "metadata": {},
   "outputs": [],
   "source": [
    "df.to_csv(os.path.join(data_dir, 'big_grains_plot_data.csv'), index=True)"
   ]
  },
  {
   "cell_type": "markdown",
   "metadata": {},
   "source": [
    "#### Recreate plot"
   ]
  },
  {
   "cell_type": "code",
   "execution_count": null,
   "metadata": {},
   "outputs": [],
   "source": [
    "ax = df.plot(y='StokesSeaLevel')\n",
    "df.plot(y='GanserBP2003', ax=ax)\n",
    "ax.scatter(x=df.index, y=df['AshHollow'], label='AshHollow')\n",
    "ax.set_xlim(0, 180)\n",
    "ax.set_ylim(0, 3000)\n",
    "locations = {'Vienna, Austria': 2750, 'London, UK': 1767, 'Faroe Islands': 660}\n",
    "for location in locations.keys():\n",
    "    plt.hlines(locations.get(location), min(plt.xlim()), max(plt.xlim()),\n",
    "               color='grey')\n",
    "    x = min(plt.xlim()) + 0.98 * (max(plt.xlim()) - min(plt.xlim()))\n",
    "    plt.text(x, locations.get(location)+50, location,\n",
    "             horizontalalignment='right', verticalalignment='bottom',\n",
    "             color='black')\n",
    "ax.set_ylabel('Travel distance (km)')\n",
    "ax.legend(scatterpoints=1)\n",
    "ax.grid(axis='x')"
   ]
  },
  {
   "cell_type": "code",
   "execution_count": 10,
   "metadata": {},
   "outputs": [
    {
     "data": {
      "text/plain": [
       "'/home/jsteven5/GitHub/tephrange/src/__file__'"
      ]
     },
     "execution_count": 10,
     "metadata": {},
     "output_type": "execute_result"
    }
   ],
   "source": []
  },
  {
   "cell_type": "code",
   "execution_count": null,
   "metadata": {},
   "outputs": [],
   "source": []
  }
 ],
 "metadata": {
  "kernelspec": {
   "display_name": "Python 3 (ipykernel)",
   "language": "python",
   "name": "python3"
  },
  "language_info": {
   "codemirror_mode": {
    "name": "ipython",
    "version": 3
   },
   "file_extension": ".py",
   "mimetype": "text/x-python",
   "name": "python",
   "nbconvert_exporter": "python",
   "pygments_lexer": "ipython3",
   "version": "3.8.0"
  }
 },
 "nbformat": 4,
 "nbformat_minor": 1
}
