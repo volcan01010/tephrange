{
 "cells": [
  {
   "cell_type": "markdown",
   "metadata": {},
   "source": [
    "## Recreating Big Grains plots\n",
    "This notebook recreates the modelling plot from Stevenson et al (2015) _Big Grains Go Far_ to demonstrate the Python modelling code and to generate data to put results from real grains into context."
   ]
  },
  {
   "cell_type": "code",
   "execution_count": 1,
   "metadata": {},
   "outputs": [
    {
     "name": "stdout",
     "output_type": "stream",
     "text": [
      "['/home/jsteven5/Modelling/Pankhurst_XMT/ash_settling_XMT/src', '/usr/lib/python38.zip', '/usr/lib/python3.8', '/usr/lib/python3.8/lib-dynload', '', '/home/jsteven5/.virtualenvs/travdist38/lib/python3.8/site-packages', '/home/jsteven5/.virtualenvs/travdist38/lib/python3.8/site-packages/IPython/extensions', '/home/jsteven5/.ipython']\n"
     ]
    },
    {
     "name": "stderr",
     "output_type": "stream",
     "text": [
      "Matplotlib is building the font cache; this may take a moment.\n"
     ]
    }
   ],
   "source": [
    "import sys\n",
    "print(sys.path)\n",
    "import numpy as np\n",
    "import pandas as pd\n",
    "import matplotlib.pyplot as plt\n",
    "import ipdb\n",
    "from textwrap import dedent\n",
    "%matplotlib inline\n",
    "\n",
    "import os\n",
    "# Prepare working directories.  Notebook should be launched from within src directory.\n",
    "src_dir = '../src'\n",
    "data_dir = '../data'\n",
    "plots_dir = '../plots'\n",
    "os.chdir(src_dir)\n",
    "\n",
    "from travdist import density, fall_velocity, particle"
   ]
  },
  {
   "cell_type": "markdown",
   "metadata": {},
   "source": [
    "## Compare Ganser versus Stokes' terminal velocities"
   ]
  },
  {
   "cell_type": "code",
   "execution_count": 2,
   "metadata": {},
   "outputs": [
    {
     "data": {
      "text/html": [
       "<div>\n",
       "<style scoped>\n",
       "    .dataframe tbody tr th:only-of-type {\n",
       "        vertical-align: middle;\n",
       "    }\n",
       "\n",
       "    .dataframe tbody tr th {\n",
       "        vertical-align: top;\n",
       "    }\n",
       "\n",
       "    .dataframe thead th {\n",
       "        text-align: right;\n",
       "    }\n",
       "</style>\n",
       "<table border=\"1\" class=\"dataframe\">\n",
       "  <thead>\n",
       "    <tr style=\"text-align: right;\">\n",
       "      <th></th>\n",
       "      <th>DiameterMeters</th>\n",
       "      <th>DensityBP2003</th>\n",
       "      <th>VelocityStokes</th>\n",
       "      <th>VelocityGanserBP2003</th>\n",
       "      <th>StokesOverGanserBP2003</th>\n",
       "    </tr>\n",
       "    <tr>\n",
       "      <th>DiameterMicrons</th>\n",
       "      <th></th>\n",
       "      <th></th>\n",
       "      <th></th>\n",
       "      <th></th>\n",
       "      <th></th>\n",
       "    </tr>\n",
       "  </thead>\n",
       "  <tbody>\n",
       "    <tr>\n",
       "      <th>20</th>\n",
       "      <td>0.00002</td>\n",
       "      <td>1984.696564</td>\n",
       "      <td>0.027963</td>\n",
       "      <td>0.020818</td>\n",
       "      <td>1.343196</td>\n",
       "    </tr>\n",
       "    <tr>\n",
       "      <th>40</th>\n",
       "      <td>0.00004</td>\n",
       "      <td>1752.196564</td>\n",
       "      <td>0.111853</td>\n",
       "      <td>0.069252</td>\n",
       "      <td>1.615155</td>\n",
       "    </tr>\n",
       "    <tr>\n",
       "      <th>60</th>\n",
       "      <td>0.00006</td>\n",
       "      <td>1616.192783</td>\n",
       "      <td>0.251669</td>\n",
       "      <td>0.132875</td>\n",
       "      <td>1.894037</td>\n",
       "    </tr>\n",
       "    <tr>\n",
       "      <th>80</th>\n",
       "      <td>0.00008</td>\n",
       "      <td>1519.696564</td>\n",
       "      <td>0.447412</td>\n",
       "      <td>0.203706</td>\n",
       "      <td>2.196361</td>\n",
       "    </tr>\n",
       "    <tr>\n",
       "      <th>100</th>\n",
       "      <td>0.00010</td>\n",
       "      <td>1444.848282</td>\n",
       "      <td>0.699082</td>\n",
       "      <td>0.277043</td>\n",
       "      <td>2.523366</td>\n",
       "    </tr>\n",
       "    <tr>\n",
       "      <th>120</th>\n",
       "      <td>0.00012</td>\n",
       "      <td>1383.692783</td>\n",
       "      <td>1.006677</td>\n",
       "      <td>0.350323</td>\n",
       "      <td>2.873568</td>\n",
       "    </tr>\n",
       "    <tr>\n",
       "      <th>140</th>\n",
       "      <td>0.00014</td>\n",
       "      <td>1331.986545</td>\n",
       "      <td>1.370200</td>\n",
       "      <td>0.422222</td>\n",
       "      <td>3.245212</td>\n",
       "    </tr>\n",
       "    <tr>\n",
       "      <th>160</th>\n",
       "      <td>0.00016</td>\n",
       "      <td>1287.196564</td>\n",
       "      <td>1.789649</td>\n",
       "      <td>0.492095</td>\n",
       "      <td>3.636798</td>\n",
       "    </tr>\n",
       "    <tr>\n",
       "      <th>180</th>\n",
       "      <td>0.00018</td>\n",
       "      <td>1247.689001</td>\n",
       "      <td>2.265024</td>\n",
       "      <td>0.559662</td>\n",
       "      <td>4.047128</td>\n",
       "    </tr>\n",
       "  </tbody>\n",
       "</table>\n",
       "</div>"
      ],
      "text/plain": [
       "                 DiameterMeters  DensityBP2003  VelocityStokes  \\\n",
       "DiameterMicrons                                                  \n",
       "20                      0.00002    1984.696564        0.027963   \n",
       "40                      0.00004    1752.196564        0.111853   \n",
       "60                      0.00006    1616.192783        0.251669   \n",
       "80                      0.00008    1519.696564        0.447412   \n",
       "100                     0.00010    1444.848282        0.699082   \n",
       "120                     0.00012    1383.692783        1.006677   \n",
       "140                     0.00014    1331.986545        1.370200   \n",
       "160                     0.00016    1287.196564        1.789649   \n",
       "180                     0.00018    1247.689001        2.265024   \n",
       "\n",
       "                 VelocityGanserBP2003  StokesOverGanserBP2003  \n",
       "DiameterMicrons                                                \n",
       "20                           0.020818                1.343196  \n",
       "40                           0.069252                1.615155  \n",
       "60                           0.132875                1.894037  \n",
       "80                           0.203706                2.196361  \n",
       "100                          0.277043                2.523366  \n",
       "120                          0.350323                2.873568  \n",
       "140                          0.422222                3.245212  \n",
       "160                          0.492095                3.636798  \n",
       "180                          0.559662                4.047128  "
      ]
     },
     "execution_count": 2,
     "metadata": {},
     "output_type": "execute_result"
    },
    {
     "data": {
      "image/png": "[encoded data removed]",
      "text/plain": [
       "<Figure size 432x288 with 1 Axes>"
      ]
     },
     "metadata": {
      "needs_background": "light"
     },
     "output_type": "display_data"
    }
   ],
   "source": [
    "# Set up dataframe for results\n",
    "d_microns = np.arange(20, 181, 1)\n",
    "d = d_microns / 1e6\n",
    "df = pd.DataFrame({'DiameterMeters': d}, index=pd.Series(d_microns, name='DiameterMicrons'))\n",
    "\n",
    "# Add density column\n",
    "df['DensityBP2003'] = df['DiameterMeters'].map(lambda x: density.bp2003(x))\n",
    "\n",
    "# Calculate velocities\n",
    "df['VelocityStokes'] = df.index.map(lambda x: fall_velocity.stokes(\n",
    "    diameter=df.loc[x, 'DiameterMeters'], density=2300))\n",
    "df['VelocityGanserBP2003'] = df.index.map(lambda x: fall_velocity.ganser(\n",
    "    diameter=df.loc[x, 'DiameterMeters'], density=df.loc[x, 'DensityBP2003'],\n",
    "    sphericity=0.7))\n",
    "\n",
    "# Calculate ratio\n",
    "df['StokesOverGanserBP2003'] = df['VelocityStokes'] / df['VelocityGanserBP2003']\n",
    "\n",
    "# Show results\n",
    "ax = df.plot(y='StokesOverGanserBP2003')\n",
    "ax.set_ylabel('Ratio')\n",
    "df.loc[::20]  # Every 20th row"
   ]
  },
  {
   "cell_type": "markdown",
   "metadata": {},
   "source": [
    "## Recreate Big Grains plot\n",
    "\n",
    "#### Set up distance calculation functions"
   ]
  },
  {
   "cell_type": "code",
   "execution_count": 3,
   "metadata": {},
   "outputs": [],
   "source": [
    "def stokes_sealevel_distance(diameter, density):\n",
    "    \"\"\"\n",
    "    Calculate travel distance using Stokes' law at sea level.\n",
    "    \"\"\"\n",
    "    p = particle.Particle(diameter=diameter, particle_density=density)\n",
    "    distance = p.calculate_distance(velocity_function='stokes_sea_level')\n",
    "    return distance\n",
    "\n",
    "def ganser_distance(diameter, sphericity, density):\n",
    "    \"\"\"\n",
    "    Calculate travel distance using Ganser with shape factor 0.7\n",
    "    and variable atmosphere.\n",
    "    \"\"\"\n",
    "    p = particle.Particle(diameter=diameter, sphericity=sphericity,\n",
    "                          particle_density=density)\n",
    "    distance = p.calculate_distance(velocity_function='ganser')\n",
    "    return distance"
   ]
  },
  {
   "cell_type": "markdown",
   "metadata": {},
   "source": [
    "#### Set up dataframe for results"
   ]
  },
  {
   "cell_type": "code",
   "execution_count": 4,
   "metadata": {},
   "outputs": [],
   "source": [
    "d_microns = np.arange(20, 181, 1)\n",
    "d = d_microns / 1e6\n",
    "df = pd.DataFrame({'DiameterMeters': d}, index=pd.Series(d_microns, name='DiameterMicrons'))\n",
    "df['DensityBP2003'] = df['DiameterMeters'].map(lambda x: density.bp2003(x))"
   ]
  },
  {
   "cell_type": "markdown",
   "metadata": {},
   "source": [
    "#### Calculate travel distance using different functions"
   ]
  },
  {
   "cell_type": "code",
   "execution_count": 5,
   "metadata": {},
   "outputs": [],
   "source": [
    "# Stokes' sea level is calculated with constant density\n",
    "df['StokesSeaLevel'] = df.index.map(lambda x: stokes_sealevel_distance(\n",
    "        diameter=df.loc[x, 'DiameterMeters'], density=2300))\n",
    "# Ganser uses density calculated using Bonadonna and Philips\n",
    "df['GanserBP2003'] = df.index.map(lambda x: ganser_distance(\n",
    "        diameter=df.loc[x, 'DiameterMeters'],\n",
    "        sphericity=0.7,\n",
    "        density=df.loc[x, 'DensityBP2003']))\n",
    "# Add Ash Hollow distance information from Riley et al 2003\n",
    "ash_hollow = pd.read_csv(os.path.join(data_dir, 'Riley2003_Hollow_sphdiam_10km_ws10.csv'),\n",
    "                         sep=' ', names=['DiameterMicrons', 'AshHollow'],\n",
    "                         index_col='DiameterMicrons')\n",
    "df = df.join(ash_hollow)"
   ]
  },
  {
   "cell_type": "markdown",
   "metadata": {},
   "source": [
    "#### Display table to compare distances"
   ]
  },
  {
   "cell_type": "code",
   "execution_count": 6,
   "metadata": {},
   "outputs": [
    {
     "data": {
      "text/html": [
       "<div>\n",
       "<style scoped>\n",
       "    .dataframe tbody tr th:only-of-type {\n",
       "        vertical-align: middle;\n",
       "    }\n",
       "\n",
       "    .dataframe tbody tr th {\n",
       "        vertical-align: top;\n",
       "    }\n",
       "\n",
       "    .dataframe thead th {\n",
       "        text-align: right;\n",
       "    }\n",
       "</style>\n",
       "<table border=\"1\" class=\"dataframe\">\n",
       "  <thead>\n",
       "    <tr style=\"text-align: right;\">\n",
       "      <th></th>\n",
       "      <th>DiameterMeters</th>\n",
       "      <th>DensityBP2003</th>\n",
       "      <th>StokesSeaLevel</th>\n",
       "      <th>GanserBP2003</th>\n",
       "      <th>AshHollow</th>\n",
       "    </tr>\n",
       "    <tr>\n",
       "      <th>DiameterMicrons</th>\n",
       "      <th></th>\n",
       "      <th></th>\n",
       "      <th></th>\n",
       "      <th></th>\n",
       "      <th></th>\n",
       "    </tr>\n",
       "  </thead>\n",
       "  <tbody>\n",
       "    <tr>\n",
       "      <th>21</th>\n",
       "      <td>0.000021</td>\n",
       "      <td>1968.331045</td>\n",
       "      <td>3243.647019</td>\n",
       "      <td>3972.631596</td>\n",
       "      <td>7690.0</td>\n",
       "    </tr>\n",
       "    <tr>\n",
       "      <th>29</th>\n",
       "      <td>0.000029</td>\n",
       "      <td>1860.064265</td>\n",
       "      <td>1700.889816</td>\n",
       "      <td>2244.071882</td>\n",
       "      <td>4170.0</td>\n",
       "    </tr>\n",
       "    <tr>\n",
       "      <th>50</th>\n",
       "      <td>0.000050</td>\n",
       "      <td>1677.348282</td>\n",
       "      <td>572.179334</td>\n",
       "      <td>891.125733</td>\n",
       "      <td>2700.0</td>\n",
       "    </tr>\n",
       "    <tr>\n",
       "      <th>55</th>\n",
       "      <td>0.000055</td>\n",
       "      <td>1645.378713</td>\n",
       "      <td>472.875483</td>\n",
       "      <td>763.852002</td>\n",
       "      <td>1370.0</td>\n",
       "    </tr>\n",
       "    <tr>\n",
       "      <th>60</th>\n",
       "      <td>0.000060</td>\n",
       "      <td>1616.192783</td>\n",
       "      <td>397.346760</td>\n",
       "      <td>665.238803</td>\n",
       "      <td>1850.0</td>\n",
       "    </tr>\n",
       "    <tr>\n",
       "      <th>70</th>\n",
       "      <td>0.000070</td>\n",
       "      <td>1564.486545</td>\n",
       "      <td>291.928232</td>\n",
       "      <td>524.059756</td>\n",
       "      <td>1050.0</td>\n",
       "    </tr>\n",
       "    <tr>\n",
       "      <th>80</th>\n",
       "      <td>0.000080</td>\n",
       "      <td>1519.696564</td>\n",
       "      <td>223.507552</td>\n",
       "      <td>429.296158</td>\n",
       "      <td>826.0</td>\n",
       "    </tr>\n",
       "    <tr>\n",
       "      <th>90</th>\n",
       "      <td>0.000090</td>\n",
       "      <td>1480.189001</td>\n",
       "      <td>176.598560</td>\n",
       "      <td>362.199316</td>\n",
       "      <td>671.0</td>\n",
       "    </tr>\n",
       "    <tr>\n",
       "      <th>90</th>\n",
       "      <td>0.000090</td>\n",
       "      <td>1480.189001</td>\n",
       "      <td>176.598560</td>\n",
       "      <td>362.199316</td>\n",
       "      <td>556.0</td>\n",
       "    </tr>\n",
       "  </tbody>\n",
       "</table>\n",
       "</div>"
      ],
      "text/plain": [
       "                 DiameterMeters  DensityBP2003  StokesSeaLevel  GanserBP2003  \\\n",
       "DiameterMicrons                                                                \n",
       "21                     0.000021    1968.331045     3243.647019   3972.631596   \n",
       "29                     0.000029    1860.064265     1700.889816   2244.071882   \n",
       "50                     0.000050    1677.348282      572.179334    891.125733   \n",
       "55                     0.000055    1645.378713      472.875483    763.852002   \n",
       "60                     0.000060    1616.192783      397.346760    665.238803   \n",
       "70                     0.000070    1564.486545      291.928232    524.059756   \n",
       "80                     0.000080    1519.696564      223.507552    429.296158   \n",
       "90                     0.000090    1480.189001      176.598560    362.199316   \n",
       "90                     0.000090    1480.189001      176.598560    362.199316   \n",
       "\n",
       "                 AshHollow  \n",
       "DiameterMicrons             \n",
       "21                  7690.0  \n",
       "29                  4170.0  \n",
       "50                  2700.0  \n",
       "55                  1370.0  \n",
       "60                  1850.0  \n",
       "70                  1050.0  \n",
       "80                   826.0  \n",
       "90                   671.0  \n",
       "90                   556.0  "
      ]
     },
     "execution_count": 6,
     "metadata": {},
     "output_type": "execute_result"
    }
   ],
   "source": [
    "df.loc[np.isfinite(df['AshHollow']), :]"
   ]
  },
  {
   "cell_type": "markdown",
   "metadata": {},
   "source": [
    "#### Export data to csv"
   ]
  },
  {
   "cell_type": "code",
   "execution_count": 7,
   "metadata": {},
   "outputs": [],
   "source": [
    "df.to_csv(os.path.join(data_dir, 'big_grains_plot_data.csv'), index=True)"
   ]
  },
  {
   "cell_type": "markdown",
   "metadata": {},
   "source": [
    "#### Recreate plot"
   ]
  },
  {
   "cell_type": "code",
   "execution_count": 9,
   "metadata": {},
   "outputs": [
    {
     "data": {
      "image/png": "[encoded data removed]",
      "text/plain": [
       "<Figure size 432x288 with 1 Axes>"
      ]
     },
     "metadata": {
      "needs_background": "light"
     },
     "output_type": "display_data"
    }
   ],
   "source": [
    "ax = df.plot(y='StokesSeaLevel')\n",
    "df.plot(y='GanserBP2003', ax=ax)\n",
    "ax.scatter(x=df.index, y=df['AshHollow'], label='AshHollow')\n",
    "ax.set_xlim(0, 180)\n",
    "ax.set_ylim(0, 3000)\n",
    "locations = {'Vienna, Austria': 2750, 'London, UK': 1767, 'Faroe Islands': 660}\n",
    "for location in locations.keys():\n",
    "    plt.hlines(locations.get(location), min(plt.xlim()), max(plt.xlim()),\n",
    "               color='grey')\n",
    "    x = min(plt.xlim()) + 0.98 * (max(plt.xlim()) - min(plt.xlim()))\n",
    "    plt.text(x, locations.get(location)+50, location,\n",
    "             horizontalalignment='right', verticalalignment='bottom',\n",
    "             color='black')\n",
    "ax.set_ylabel('Travel distance (km)')\n",
    "ax.legend(scatterpoints=1)\n",
    "ax.grid(axis='x')"
   ]
  },
  {
   "cell_type": "code",
   "execution_count": null,
   "metadata": {},
   "outputs": [],
   "source": []
  }
 ],
 "metadata": {
  "kernelspec": {
   "display_name": "Python 3",
   "language": "python",
   "name": "python3"
  },
  "language_info": {
   "codemirror_mode": {
    "name": "ipython",
    "version": 3
   },
   "file_extension": ".py",
   "mimetype": "text/x-python",
   "name": "python",
   "nbconvert_exporter": "python",
   "pygments_lexer": "ipython3",
   "version": "3.8.0"
  }
 },
 "nbformat": 4,
 "nbformat_minor": 1
}
